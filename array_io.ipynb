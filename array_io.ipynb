{
 "cells": [
  {
   "cell_type": "markdown",
   "metadata": {},
   "source": [
    "# array的input/output\n",
    "- 使用pickle序列化\n",
    "- 為何需要做序列化這件事情?\n",
    "    - 存取，供給其他function/program使用\n",
    "    - pickle是python中特別的binary檔案類型，具有輕量且讀取快的優點\n"
   ]
  },
  {
   "cell_type": "code",
   "execution_count": 1,
   "metadata": {},
   "outputs": [],
   "source": [
    "import pickle\n",
    "import numpy as np"
   ]
  },
  {
   "cell_type": "code",
   "execution_count": 2,
   "metadata": {},
   "outputs": [],
   "source": [
    "x = np.arange(10)"
   ]
  },
  {
   "cell_type": "code",
   "execution_count": 3,
   "metadata": {},
   "outputs": [
    {
     "data": {
      "text/plain": [
       "array([0, 1, 2, 3, 4, 5, 6, 7, 8, 9])"
      ]
     },
     "execution_count": 3,
     "metadata": {},
     "output_type": "execute_result"
    }
   ],
   "source": [
    "x"
   ]
  },
  {
   "cell_type": "code",
   "execution_count": 4,
   "metadata": {},
   "outputs": [],
   "source": [
    "# f開啟名為x.pkl的檔案 以write binary模式\n",
    "# 此時變數f會是準備好寫入binary的狀態，等待input內容\n",
    "f = open('x.pkl', 'wb')"
   ]
  },
  {
   "cell_type": "code",
   "execution_count": 5,
   "metadata": {},
   "outputs": [],
   "source": [
    "# 使用pickl.dump方法，將array x 內容 output到檔案f\n",
    "# pickle檔案會被產生在同一目錄底下\n",
    "pickle.dump(x, f)"
   ]
  },
  {
   "cell_type": "code",
   "execution_count": 9,
   "metadata": {},
   "outputs": [
    {
     "name": "stdout",
     "output_type": "stream",
     "text": [
      " 磁碟區 C 中的磁碟是 Windows\n",
      " 磁碟區序號:  8C9E-DB5D\n",
      "\n",
      " C:\\Users\\Young\\OneDrive\\Side_Proj\\data_analysis_course 的目錄\n",
      "\n",
      "2019/10/31  下午 10:58    <DIR>          .ipynb_checkpoints\n",
      "2019/10/29  下午 12:48          (35,033) array.ipynb\n",
      "2019/10/31  下午 11:05             1,909 array_io.ipynb\n",
      "2019/10/29  下午 11:22          (15,979) array_manipulation.ipynb\n",
      "               3 個檔案          52,921 位元組\n",
      "               1 個目錄  35,268,960,256 位元組可用\n"
     ]
    }
   ],
   "source": [
    "!dir /all"
   ]
  },
  {
   "cell_type": "code",
   "execution_count": 10,
   "metadata": {},
   "outputs": [],
   "source": [
    "#讀入上面輸出的檔案x.pkl\n",
    "# rb = read binary\n",
    "f = open('x.pkl', 'rb')"
   ]
  },
  {
   "cell_type": "code",
   "execution_count": 11,
   "metadata": {},
   "outputs": [
    {
     "data": {
      "text/plain": [
       "array([0, 1, 2, 3, 4, 5, 6, 7, 8, 9])"
      ]
     },
     "execution_count": 11,
     "metadata": {},
     "output_type": "execute_result"
    }
   ],
   "source": [
    "pickle.load(f)"
   ]
  },
  {
   "cell_type": "markdown",
   "metadata": {},
   "source": [
    "### 使用numpy內的方法實現序列化"
   ]
  },
  {
   "cell_type": "code",
   "execution_count": 12,
   "metadata": {},
   "outputs": [],
   "source": [
    "# 將x array存成one_array\n",
    "np.save('one_array', x)"
   ]
  },
  {
   "cell_type": "code",
   "execution_count": 13,
   "metadata": {},
   "outputs": [
    {
     "name": "stdout",
     "output_type": "stream",
     "text": [
      " 磁碟區 C 中的磁碟是 Windows\n",
      " 磁碟區序號:  8C9E-DB5D\n",
      "\n",
      " C:\\Users\\Young\\OneDrive\\Side_Proj\\data_analysis_course 的目錄\n",
      "\n",
      "2019/10/31  下午 11:11    <DIR>          .\n",
      "2019/10/31  下午 11:11    <DIR>          ..\n",
      "2019/10/31  下午 10:58    <DIR>          .ipynb_checkpoints\n",
      "2019/10/29  下午 12:48          (35,033) array.ipynb\n",
      "2019/10/31  下午 11:11             3,793 array_io.ipynb\n",
      "2019/10/29  下午 11:22          (15,979) array_manipulation.ipynb\n",
      "2019/10/31  下午 11:11               168 one_array.npy\n",
      "2019/10/31  下午 11:08               195 x.pkl\n",
      "               5 個檔案          55,168 位元組\n",
      "               3 個目錄  35,266,945,024 位元組可用\n"
     ]
    }
   ],
   "source": [
    "# 檢查同目錄下是否有one_array.npy\n",
    "!dir"
   ]
  },
  {
   "cell_type": "code",
   "execution_count": 15,
   "metadata": {},
   "outputs": [
    {
     "data": {
      "text/plain": [
       "array([0, 1, 2, 3, 4, 5, 6, 7, 8, 9])"
      ]
     },
     "execution_count": 15,
     "metadata": {},
     "output_type": "execute_result"
    }
   ],
   "source": [
    "np.load('one_array.npy')"
   ]
  },
  {
   "cell_type": "markdown",
   "metadata": {},
   "source": [
    "### 多Array序列化"
   ]
  },
  {
   "cell_type": "code",
   "execution_count": 16,
   "metadata": {},
   "outputs": [],
   "source": [
    "y = np.arange(20)"
   ]
  },
  {
   "cell_type": "code",
   "execution_count": 17,
   "metadata": {},
   "outputs": [
    {
     "data": {
      "text/plain": [
       "array([ 0,  1,  2,  3,  4,  5,  6,  7,  8,  9, 10, 11, 12, 13, 14, 15, 16,\n",
       "       17, 18, 19])"
      ]
     },
     "execution_count": 17,
     "metadata": {},
     "output_type": "execute_result"
    }
   ],
   "source": [
    "y"
   ]
  },
  {
   "cell_type": "code",
   "execution_count": 18,
   "metadata": {},
   "outputs": [],
   "source": [
    "# 依次序列化兩個array，x取名a y取名b 存成two_array.npz\n",
    "# 2個array壓縮成一個文件\n",
    "np.savez('two_array.npz', a=x, b=y)"
   ]
  },
  {
   "cell_type": "code",
   "execution_count": 19,
   "metadata": {},
   "outputs": [
    {
     "name": "stdout",
     "output_type": "stream",
     "text": [
      " 磁碟區 C 中的磁碟是 Windows\n",
      " 磁碟區序號:  8C9E-DB5D\n",
      "\n",
      " C:\\Users\\Young\\OneDrive\\Side_Proj\\data_analysis_course 的目錄\n",
      "\n",
      "2019/10/31  下午 11:19    <DIR>          .\n",
      "2019/10/31  下午 11:19    <DIR>          ..\n",
      "2019/10/31  下午 10:58    <DIR>          .ipynb_checkpoints\n",
      "2019/10/29  下午 12:48          (35,033) array.ipynb\n",
      "2019/10/31  下午 11:19             5,935 array_io.ipynb\n",
      "2019/10/29  下午 11:22          (15,979) array_manipulation.ipynb\n",
      "2019/10/31  下午 11:11               168 one_array.npy\n",
      "2019/10/31  下午 11:19               570 two_array.npz\n",
      "2019/10/31  下午 11:08               195 x.pkl\n",
      "               6 個檔案          57,880 位元組\n",
      "               3 個目錄  35,264,061,440 位元組可用\n"
     ]
    }
   ],
   "source": [
    "!dir"
   ]
  },
  {
   "cell_type": "code",
   "execution_count": 22,
   "metadata": {},
   "outputs": [],
   "source": [
    "c = np.load('two_array.npz')"
   ]
  },
  {
   "cell_type": "code",
   "execution_count": 23,
   "metadata": {},
   "outputs": [
    {
     "data": {
      "text/plain": [
       "array([0, 1, 2, 3, 4, 5, 6, 7, 8, 9])"
      ]
     },
     "execution_count": 23,
     "metadata": {},
     "output_type": "execute_result"
    }
   ],
   "source": [
    "c['a']"
   ]
  },
  {
   "cell_type": "code",
   "execution_count": 24,
   "metadata": {},
   "outputs": [
    {
     "data": {
      "text/plain": [
       "array([ 0,  1,  2,  3,  4,  5,  6,  7,  8,  9, 10, 11, 12, 13, 14, 15, 16,\n",
       "       17, 18, 19])"
      ]
     },
     "execution_count": 24,
     "metadata": {},
     "output_type": "execute_result"
    }
   ],
   "source": [
    "c['b']"
   ]
  },
  {
   "cell_type": "code",
   "execution_count": null,
   "metadata": {},
   "outputs": [],
   "source": []
  }
 ],
 "metadata": {
  "kernelspec": {
   "display_name": "Python 3",
   "language": "python",
   "name": "python3"
  },
  "language_info": {
   "codemirror_mode": {
    "name": "ipython",
    "version": 3
   },
   "file_extension": ".py",
   "mimetype": "text/x-python",
   "name": "python",
   "nbconvert_exporter": "python",
   "pygments_lexer": "ipython3",
   "version": "3.7.3"
  }
 },
 "nbformat": 4,
 "nbformat_minor": 2
}
